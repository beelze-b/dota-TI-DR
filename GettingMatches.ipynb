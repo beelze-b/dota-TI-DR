{
 "cells": [
  {
   "cell_type": "code",
   "execution_count": 9,
   "metadata": {},
   "outputs": [],
   "source": [
    "import numpy as np\n",
    "import pandas as pd\n",
    "\n",
    "\n",
    "import requests as rqt\n",
    "import time\n",
    "\n",
    "from os import listdir"
   ]
  },
  {
   "cell_type": "code",
   "execution_count": 10,
   "metadata": {},
   "outputs": [],
   "source": [
    "BASE_PATH = \"https://api.opendota.com/api\"\n",
    "QUERY_PATH = \"/matches/\""
   ]
  },
  {
   "cell_type": "code",
   "execution_count": 11,
   "metadata": {},
   "outputs": [],
   "source": [
    "def getDotaMatch(match_id, base_path = BASE_PATH, query_path=QUERY_PATH):\n",
    "    response = rqt.get(BASE_PATH + QUERY_PATH + str(match_id))\n",
    "    if response.status_code == 200:\n",
    "        return response.json()\n",
    "    else:\n",
    "        return None"
   ]
  },
  {
   "cell_type": "code",
   "execution_count": 19,
   "metadata": {},
   "outputs": [],
   "source": [
    "def parseInternational(path):\n",
    "    data = pd.read_csv(path)\n",
    "    matches = data['match_id'].unique()\n",
    "    matches_results =  []\n",
    "    for match in matches:\n",
    "        matches_results.append(getDotaMatch(match))\n",
    "        # rate limit\n",
    "        time.sleep(1)\n",
    "    return {matches[i]: matches_results[i] for i in range(len(matches))}"
   ]
  },
  {
   "cell_type": "code",
   "execution_count": 20,
   "metadata": {},
   "outputs": [],
   "source": [
    "matches_list = ['ti2_main_matches_list.csv',\n",
    " 'ti3_main_matches_list.csv',\n",
    " 'ti4_main_matches_list.csv',\n",
    " 'ti5_main_matches_list.csv',\n",
    " 'ti6_main_matches_list.csv',\n",
    " 'ti7_main_matches_list.csv',\n",
    " 'ti8_main_matches_list.csv']"
   ]
  },
  {
   "cell_type": "code",
   "execution_count": 21,
   "metadata": {},
   "outputs": [],
   "source": [
    "for ti_matches in matches_list:\n",
    "    ti = parseInternational(\"data/\" + ti_matches)\n",
    "    np.save(\"data/\" + ti_matches[:3] + '_data.npy', ti)"
   ]
  },
  {
   "cell_type": "code",
   "execution_count": null,
   "metadata": {},
   "outputs": [],
   "source": []
  }
 ],
 "metadata": {
  "kernelspec": {
   "display_name": "Python 3",
   "language": "python",
   "name": "python3"
  },
  "language_info": {
   "codemirror_mode": {
    "name": "ipython",
    "version": 2
   },
   "file_extension": ".py",
   "mimetype": "text/x-python",
   "name": "python",
   "nbconvert_exporter": "python",
   "pygments_lexer": "ipython2",
   "version": "2.7.15"
  }
 },
 "nbformat": 4,
 "nbformat_minor": 2
}
