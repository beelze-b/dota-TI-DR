{
 "cells": [
  {
   "cell_type": "markdown",
   "metadata": {},
   "source": [
    "# Feature Engineering\n",
    "\n",
    "The goal here is to generate features for each match that will be generate its unique characteristics. In particular, we want to capture the meta-game (*meta*), which will mean here what the optimal strategies for a particular period of the `DotA 2` game. This will mean capturing features like drafts, items, timings, outcomes, and stuff like that. \n",
    "\n",
    "I could have used the hidden embeddings of project 1 below, but the above projects do not fully consider the meta.\n",
    "\n",
    "A lot of the following will re-use code/ideas from my previous two dota projects. Please follow the undocumented projects if you are interested:\n",
    "1. https://github.com/beelze-b/Open-Dota-Exploration\n",
    "2. https://github.com/beelze-b/Dota-ItemSequence"
   ]
  },
  {
   "cell_type": "code",
   "execution_count": 1,
   "metadata": {},
   "outputs": [],
   "source": [
    "import numpy as np\n",
    "import pandas as pd\n",
    "import matplotlib.pyplot as plt\n",
    "import scipy"
   ]
  },
  {
   "cell_type": "code",
   "execution_count": 2,
   "metadata": {},
   "outputs": [],
   "source": [
    "# TURN THIS OFF IF COMING BACK FOR NEW DEVELOPMENT\n",
    "import warnings\n",
    "warnings.filterwarnings('ignore') "
   ]
  },
  {
   "cell_type": "markdown",
   "metadata": {},
   "source": [
    "### Remembering what is inside a match\n",
    "\n",
    "Haven't used the Open-Dota API in a while"
   ]
  },
  {
   "cell_type": "markdown",
   "metadata": {},
   "source": [
    "#### Some Immediate Features of Interest\n",
    "\n",
    "`radiant_win` because of who wins the match, ofc. \n",
    "\n",
    "`draft_timings` looks good too because hero selection is very intimately tied to the meta. `picks_bans` seems to contain less information.\n",
    "\n",
    "The statuses of the various barracks and towers look good too: does the meta prefer ratting or other methods of sieging bases in response to teamfights (or lack of)? Ratting or backdooring refers to attacking the enemy base while ignoring the enemy players or as they leave their base. Towers use 16 bit encoding. Barracks use 8 bit encoding.\n",
    "\n",
    "The last values `radiant_gold_adv` and `radiant_xp_adv` are good too: are matches pretty close?\n",
    "\n",
    "`duration` will be useful to see if the meta prefers short or longer games.\n",
    "\n",
    "`radiant_score` and `dire_score` for similar reasons.\n",
    "\n",
    "`objectives` will be useful for the roshan kill information. I am going to ignore the building information; it is most certainly useful, but I am pressed for time.\n",
    "\n",
    "`first_blood_time` will be included. I don't think it will carry much information, but it is low hanging fruit.\n",
    "\n",
    "###### On a deeper level, let's good at information inside `players`.\n",
    "\n",
    "Need a function to recover approximate position (1, 2, 3, 4, 5). I am going to ignore lane swaps and the possibility for dual mid.\n",
    "\n",
    "`hero_id` will be used.\n",
    "\n",
    "`lane` is useful. It is important that lanes are given 1, 2, 3 going up. So Dire offlane/radiant safelane is marked as 1. Middlane is 2 for both. Radiant offlane, Dire safelane is 3.\n",
    "\n",
    "`lane_role` will be useful to differentiate between two players in a lane. \n",
    "\n",
    "`total_gold` and `total_xp` will be useful.\n",
    "\n",
    "`purchases` will be useful to notice meta items. Will need to differentiate big purchases based on some minimum cost. Will ignore upgrades to items like repeated dagon purchases. Will ignore `divine rapier`. \n",
    "\n",
    "Going to ignore abilities since heroes get reworked, and there is too much variety there to form a consistent set of data mining scheme. To explain: What is the difference between Invoker and Ember's W? They both might get orchid for similar reasons though, which is why I look at purchases even though there is a lot of variety there.\n",
    "\n",
    "The following `numerical` data points will also be used:\n",
    "`ancient_kills`, `neutral_kills`, `lane_kills`, `last_hits`, `denies`, `tower_damage`, `hero_damage`, `hero_healing`, `sentry_kills`, `observer_kills`, `kills`, `deaths`, `assists`, `stuns`, \n",
    "`win`, `sen_placed`, `obs_placed`, `lane_efficiency_pct`, `camps_stacked`, `buyback_count`, and `teamfight_participation` \n",
    "\n",
    "No `damage_taken` since it is a dictionary, and it should be reflected by the enemy team's `hero_damage`.\n",
    "\n",
    "###### Categorical and numerical features\n",
    "Some features in the above will clearly be categorical and some will be numerical. I will try to use one hot encoding for the categorical features if the algorithm desires it. Numerical features will be max-min scaled on partitioned `TI` sets.\n",
    "\n",
    "`patch` is not GOOD: this will be a data leakage; intuitively, there should be a nearly disjoint correspondance between the meta and the patch (some patches might be similar in small aspects). We want to model characteristics inherent to the matches that tie to the overall game. The patch version, however, is  a characteristic embedded in the overall game of **DotA 2**."
   ]
  },
  {
   "cell_type": "markdown",
   "metadata": {},
   "source": [
    "## Formalizing the Above"
   ]
  },
  {
   "cell_type": "markdown",
   "metadata": {},
   "source": [
    "Strategy is to identify pos 5, pos 2, pos 1, pos 3, and pos 4 in that order. Radiant and then dire. \n",
    "For each of the above, collect the above player features. In addition, collect the match features.\n",
    "\n",
    "One hot encode all the categorical features except for tower and barracks status. Max-Min scale all the numerical features. \n",
    "\n",
    "Draft timings need to be encoded. Simply count the number of roshans kills. "
   ]
  },
  {
   "cell_type": "code",
   "execution_count": 3,
   "metadata": {},
   "outputs": [],
   "source": [
    "\n",
    "num_feat = ['ancient_kills', 'neutral_kills', 'lane_kills', 'last_hits', 'denies', 'tower_damage', 'hero_damage', 'hero_healing', 'sentry_kills', 'observer_kills', 'kills', 'deaths', 'assists', 'stuns', \n",
    "'sen_placed', 'obs_placed', 'lane_efficiency_pct', 'camps_stacked', 'buyback_count', 'teamfight_participation']"
   ]
  },
  {
   "cell_type": "code",
   "execution_count": 4,
   "metadata": {},
   "outputs": [],
   "source": [
    "def parse_match(match_obj):\n",
    "    features = {}\n",
    "    # identify the players\n",
    "    radiant_players = []\n",
    "    dire_players = []\n",
    "    for i in range(5):\n",
    "        radiant_players.append(match_obj['players'][i])\n",
    "    for i in range(5, 10):\n",
    "        dire_players.append(match_obj['players'][i])\n",
    "    \n",
    "    dire_mid = identify_mid(dire_players)\n",
    "    radiant_mid = identify_mid(radiant_players)\n",
    "    dire_players.remove(dire_mid)\n",
    "    radiant_players.remove(radiant_mid)\n",
    "    \n",
    "    dire_carry = identify_carry(dire_players)\n",
    "    radiant_carry = identify_carry(radiant_players)\n",
    "    dire_players.remove(dire_carry)\n",
    "    radiant_players.remove(radiant_carry)\n",
    "    \n",
    "    dire_offlane = identify_carry(dire_players)\n",
    "    radiant_offlane = identify_carry(radiant_players)\n",
    "    dire_players.remove(dire_offlane)\n",
    "    radiant_players.remove(radiant_offlane)\n",
    "    \n",
    "    dire_pos4 = identify_carry(dire_players)\n",
    "    radiant_pos4 = identify_carry(radiant_players)\n",
    "    dire_players.remove(dire_pos4)\n",
    "    radiant_players.remove(radiant_pos4)\n",
    "    \n",
    "    assert len(dire_players) == 1\n",
    "    assert len(radiant_players) == 1\n",
    "    dire_pos5 = dire_players[0]\n",
    "    radiant_pos5 = radiant_players[0]\n",
    "    \n",
    "    fill_in_field(features, 'hero_id', \n",
    "                  radiant_carry, radiant_mid, radiant_offlane, radiant_pos4, radiant_pos5, True)\n",
    "    fill_in_field(features, 'hero_id', \n",
    "                  dire_carry, dire_mid, dire_offlane, dire_pos4, dire_pos5, False)\n",
    "    \n",
    "    fill_in_field(features, 'total_gold', \n",
    "                  radiant_carry, radiant_mid, radiant_offlane, radiant_pos4, radiant_pos5, True)\n",
    "    fill_in_field(features, 'total_gold', \n",
    "                  dire_carry, dire_mid, dire_offlane, dire_pos4, dire_pos5, False)\n",
    "    \n",
    "    fill_in_field(features, 'total_xp', \n",
    "                  radiant_carry, radiant_mid, radiant_offlane, radiant_pos4, radiant_pos5, True)\n",
    "    fill_in_field(features, 'total_xp', \n",
    "                  dire_carry, dire_mid, dire_offlane, dire_pos4, dire_pos5, False)\n",
    "    \n",
    "    for feat in num_feat:\n",
    "        fill_in_field(features, feat, \n",
    "                  radiant_carry, radiant_mid, radiant_offlane, radiant_pos4, radiant_pos5, True)\n",
    "        fill_in_field(features, feat, \n",
    "                  dire_carry, dire_mid, dire_offlane, dire_pos4, dire_pos5, False)\n",
    "        \n",
    "    features['duration'] = match_obj['duration']\n",
    "    features['radiant_win'] = int(match_obj['radiant_win'])\n",
    "    \n",
    "    features['radiant_score'] = match_obj['radiant_score']\n",
    "    features['dire_score'] = match_obj['dire_score']\n",
    "    features['score_difference'] = match_obj['radiant_score'] - match_obj['dire_score']\n",
    "    features['first_blood_time'] = match_obj['first_blood_time']\n",
    "    try:\n",
    "        features['radiant_xp_adv'] = match_obj['radiant_xp_adv'][-1]\n",
    "        features['radiant_gold_adv'] = match_obj['radiant_gold_adv'][-1]\n",
    "    except TypeError:\n",
    "        # might be none if the information is not there\n",
    "        pass\n",
    "    except IndexError:\n",
    "        # might be empty\n",
    "        pass\n",
    "        \n",
    "    \n",
    "    draft_timings = match['picks_bans']\n",
    "    picks_radiant = []\n",
    "    bans_radiant = []\n",
    "    picks_dire = []\n",
    "    bans_dire = []\n",
    "    try:\n",
    "        picks_bans = sorted(draft_timings, key = lambda x: x['order'])\n",
    "    except TypeError: \n",
    "        # information might be missing\n",
    "        # to much relevant info missing to exit\n",
    "        return\n",
    "        \n",
    "\n",
    "    for pick_ban in picks_bans:\n",
    "        active_team = pick_ban['team']\n",
    "        pick_or_ban = pick_ban['is_pick']\n",
    "        hero_id = pick_ban['hero_id']\n",
    "        if active_team == 0:\n",
    "            if pick_or_ban:\n",
    "                picks_radiant.append(hero_id)\n",
    "            else:\n",
    "                bans_radiant.append(hero_id)\n",
    "        elif active_team == 1:\n",
    "            if pick_or_ban:\n",
    "                picks_dire.append(hero_id)\n",
    "            else:\n",
    "                bans_dire.append(hero_id)\n",
    "        else:\n",
    "            raise Exception(\"Something went wrong when parsing picks and bans\")\n",
    "    \n",
    "    for i in range(1, 6):\n",
    "        features['radiant_pick_hero_id_' + str(i)] = picks_radiant[i-1]\n",
    "        features['radiant_ban_hero_id_' + str(i)] = bans_radiant[i-1]\n",
    "        features['dire_pick_hero_id_' + str(i)] = picks_dire[i-1]\n",
    "        features['dire_ban_hero_id_' + str(i)] = bans_dire[i-1]\n",
    "\n",
    "    return(features)\n",
    "        \n",
    "    \n",
    "    \n",
    "# find which player had highest networth but was in lane 2\n",
    "def identify_mid(players_obj):\n",
    "    try:\n",
    "        possible_mids = filter(lambda x: x['lane_role'] == 2, players_obj)\n",
    "        sorted_mids = sorted(possible_mids, key = lambda x: x['total_gold'], reverse = True)\n",
    "        mid_player = sorted_mids[0]\n",
    "        return mid_player\n",
    "    except KeyError:\n",
    "        # match did not contain the details\n",
    "        sorted_mids = sorted(players_obj, key = lambda x: x['total_gold'], reverse = True)\n",
    "        # pos 2 is the one with second most gold\n",
    "        mid_player = sorted_mids[1]\n",
    "        return mid_player\n",
    "\n",
    "# carry can be either in safe lane or offlane\n",
    "# take the one with the highest gold that isn't mid\n",
    "def identify_carry(players_obj):\n",
    "    return sorted(players_obj, key = lambda x: x['total_gold'], reverse = True)[0]\n",
    "\n",
    "def fill_in_field(features_dict, field, \n",
    "                  player_pos1, player_pos2, player_pos3, player_pos4, player_pos5, isRadiant = True):\n",
    "    if isRadiant:\n",
    "        filler = 'radiant'\n",
    "        \n",
    "    else:\n",
    "        filler = 'dire'\n",
    "    try:\n",
    "        features_dict[filler + '_carry_' + field] = player_pos1[field]\n",
    "        features_dict[filler + '_mid_' + field] = player_pos2[field]\n",
    "        features_dict[filler + '_off_' + field] = player_pos3[field]\n",
    "        features_dict[filler + '_pos4_' + field] = player_pos4[field]\n",
    "        features_dict[filler + '_pos5_' + field] = player_pos5[field]\n",
    "    except KeyError:\n",
    "        # this match didn't have the info\n",
    "        return"
   ]
  },
  {
   "cell_type": "code",
   "execution_count": 5,
   "metadata": {},
   "outputs": [],
   "source": [
    "num_features_all = ['duration', 'radiant_xp_adv', 'radiant_gold_adv', 'radiant_score', \n",
    "                    'dire_score', 'score_difference', 'first_blood_time']"
   ]
  },
  {
   "cell_type": "code",
   "execution_count": 6,
   "metadata": {},
   "outputs": [],
   "source": [
    "ti5 = np.load('data/ti5_data.npy', allow_pickle = True, encoding='latin1').item()\n",
    "ti6 = np.load('data/ti6_data.npy', allow_pickle = True, encoding='latin1').item()\n",
    "ti7 = np.load('data/ti7_data.npy', allow_pickle = True, encoding='latin1').item()\n",
    "ti8 = np.load('data/ti8_data.npy', allow_pickle = True, encoding='latin1').item()"
   ]
  },
  {
   "cell_type": "code",
   "execution_count": 7,
   "metadata": {},
   "outputs": [],
   "source": [
    "ti5_matches = []\n",
    "for match_id in ti5.keys():\n",
    "    match = ti5[match_id]\n",
    "    if match is None:\n",
    "        continue\n",
    "    ti5_matches.append(parse_match(match))\n",
    "ti5_matches = pd.DataFrame(ti5_matches)"
   ]
  },
  {
   "cell_type": "code",
   "execution_count": 8,
   "metadata": {},
   "outputs": [],
   "source": [
    "ti6_matches = []\n",
    "for match_id in ti6.keys():\n",
    "    match = ti6[match_id]\n",
    "    if match is None:\n",
    "        continue\n",
    "    ti6_matches.append(parse_match(match))\n",
    "ti6_matches = pd.DataFrame(ti6_matches)"
   ]
  },
  {
   "cell_type": "code",
   "execution_count": 9,
   "metadata": {},
   "outputs": [],
   "source": [
    "ti7_matches = []\n",
    "for match_id in ti7.keys():\n",
    "    match = ti7[match_id]\n",
    "    if match is None:\n",
    "        continue\n",
    "    ti7_matches.append(parse_match(match))\n",
    "ti7_matches = pd.DataFrame(ti7_matches)"
   ]
  },
  {
   "cell_type": "code",
   "execution_count": 10,
   "metadata": {},
   "outputs": [],
   "source": [
    "ti8_matches = []\n",
    "for match_id in ti8.keys():\n",
    "    match = ti8[match_id]\n",
    "    if match is None:\n",
    "        continue\n",
    "    ti8_matches.append(parse_match(match))\n",
    "ti8_matches = pd.DataFrame(ti8_matches)"
   ]
  },
  {
   "cell_type": "code",
   "execution_count": 11,
   "metadata": {},
   "outputs": [],
   "source": [
    "mask = []\n",
    "for col in ti8_matches.columns:\n",
    "    mask.append(not col in ti5_matches.columns)"
   ]
  },
  {
   "cell_type": "code",
   "execution_count": 12,
   "metadata": {},
   "outputs": [],
   "source": [
    "remove_col = ti8_matches.columns[mask]"
   ]
  },
  {
   "cell_type": "code",
   "execution_count": 13,
   "metadata": {},
   "outputs": [],
   "source": [
    "columns_to_use = ti8_matches.columns.tolist()\n",
    "for col in remove_col:\n",
    "    columns_to_use.remove(col)"
   ]
  },
  {
   "cell_type": "code",
   "execution_count": 14,
   "metadata": {},
   "outputs": [
    {
     "data": {
      "text/plain": [
       "['dire_ban_hero_id_1',\n",
       " 'dire_ban_hero_id_2',\n",
       " 'dire_ban_hero_id_3',\n",
       " 'dire_ban_hero_id_4',\n",
       " 'dire_ban_hero_id_5',\n",
       " 'dire_carry_ancient_kills',\n",
       " 'dire_carry_assists',\n",
       " 'dire_carry_buyback_count',\n",
       " 'dire_carry_camps_stacked',\n",
       " 'dire_carry_deaths',\n",
       " 'dire_carry_denies',\n",
       " 'dire_carry_hero_damage',\n",
       " 'dire_carry_hero_healing',\n",
       " 'dire_carry_hero_id',\n",
       " 'dire_carry_kills',\n",
       " 'dire_carry_lane_efficiency_pct',\n",
       " 'dire_carry_lane_kills',\n",
       " 'dire_carry_last_hits',\n",
       " 'dire_carry_neutral_kills',\n",
       " 'dire_carry_obs_placed',\n",
       " 'dire_carry_observer_kills',\n",
       " 'dire_carry_sen_placed',\n",
       " 'dire_carry_sentry_kills',\n",
       " 'dire_carry_stuns',\n",
       " 'dire_carry_teamfight_participation',\n",
       " 'dire_carry_total_gold',\n",
       " 'dire_carry_total_xp',\n",
       " 'dire_carry_tower_damage',\n",
       " 'dire_mid_ancient_kills',\n",
       " 'dire_mid_assists',\n",
       " 'dire_mid_buyback_count',\n",
       " 'dire_mid_camps_stacked',\n",
       " 'dire_mid_deaths',\n",
       " 'dire_mid_denies',\n",
       " 'dire_mid_hero_damage',\n",
       " 'dire_mid_hero_healing',\n",
       " 'dire_mid_hero_id',\n",
       " 'dire_mid_kills',\n",
       " 'dire_mid_lane_efficiency_pct',\n",
       " 'dire_mid_lane_kills',\n",
       " 'dire_mid_last_hits',\n",
       " 'dire_mid_neutral_kills',\n",
       " 'dire_mid_obs_placed',\n",
       " 'dire_mid_observer_kills',\n",
       " 'dire_mid_sen_placed',\n",
       " 'dire_mid_sentry_kills',\n",
       " 'dire_mid_stuns',\n",
       " 'dire_mid_teamfight_participation',\n",
       " 'dire_mid_total_gold',\n",
       " 'dire_mid_total_xp',\n",
       " 'dire_mid_tower_damage',\n",
       " 'dire_off_ancient_kills',\n",
       " 'dire_off_assists',\n",
       " 'dire_off_buyback_count',\n",
       " 'dire_off_camps_stacked',\n",
       " 'dire_off_deaths',\n",
       " 'dire_off_denies',\n",
       " 'dire_off_hero_damage',\n",
       " 'dire_off_hero_healing',\n",
       " 'dire_off_hero_id',\n",
       " 'dire_off_kills',\n",
       " 'dire_off_lane_efficiency_pct',\n",
       " 'dire_off_lane_kills',\n",
       " 'dire_off_last_hits',\n",
       " 'dire_off_neutral_kills',\n",
       " 'dire_off_obs_placed',\n",
       " 'dire_off_observer_kills',\n",
       " 'dire_off_sen_placed',\n",
       " 'dire_off_sentry_kills',\n",
       " 'dire_off_stuns',\n",
       " 'dire_off_teamfight_participation',\n",
       " 'dire_off_total_gold',\n",
       " 'dire_off_total_xp',\n",
       " 'dire_off_tower_damage',\n",
       " 'dire_pick_hero_id_1',\n",
       " 'dire_pick_hero_id_2',\n",
       " 'dire_pick_hero_id_3',\n",
       " 'dire_pick_hero_id_4',\n",
       " 'dire_pick_hero_id_5',\n",
       " 'dire_pos4_ancient_kills',\n",
       " 'dire_pos4_assists',\n",
       " 'dire_pos4_buyback_count',\n",
       " 'dire_pos4_camps_stacked',\n",
       " 'dire_pos4_deaths',\n",
       " 'dire_pos4_denies',\n",
       " 'dire_pos4_hero_damage',\n",
       " 'dire_pos4_hero_healing',\n",
       " 'dire_pos4_hero_id',\n",
       " 'dire_pos4_kills',\n",
       " 'dire_pos4_lane_efficiency_pct',\n",
       " 'dire_pos4_lane_kills',\n",
       " 'dire_pos4_last_hits',\n",
       " 'dire_pos4_neutral_kills',\n",
       " 'dire_pos4_obs_placed',\n",
       " 'dire_pos4_observer_kills',\n",
       " 'dire_pos4_sen_placed',\n",
       " 'dire_pos4_sentry_kills',\n",
       " 'dire_pos4_stuns',\n",
       " 'dire_pos4_teamfight_participation',\n",
       " 'dire_pos4_total_gold',\n",
       " 'dire_pos4_total_xp',\n",
       " 'dire_pos4_tower_damage',\n",
       " 'dire_pos5_ancient_kills',\n",
       " 'dire_pos5_assists',\n",
       " 'dire_pos5_buyback_count',\n",
       " 'dire_pos5_camps_stacked',\n",
       " 'dire_pos5_deaths',\n",
       " 'dire_pos5_denies',\n",
       " 'dire_pos5_hero_damage',\n",
       " 'dire_pos5_hero_healing',\n",
       " 'dire_pos5_hero_id',\n",
       " 'dire_pos5_kills',\n",
       " 'dire_pos5_lane_efficiency_pct',\n",
       " 'dire_pos5_lane_kills',\n",
       " 'dire_pos5_last_hits',\n",
       " 'dire_pos5_neutral_kills',\n",
       " 'dire_pos5_obs_placed',\n",
       " 'dire_pos5_observer_kills',\n",
       " 'dire_pos5_sen_placed',\n",
       " 'dire_pos5_sentry_kills',\n",
       " 'dire_pos5_stuns',\n",
       " 'dire_pos5_teamfight_participation',\n",
       " 'dire_pos5_total_gold',\n",
       " 'dire_pos5_total_xp',\n",
       " 'dire_pos5_tower_damage',\n",
       " 'dire_score',\n",
       " 'duration',\n",
       " 'first_blood_time',\n",
       " 'radiant_ban_hero_id_1',\n",
       " 'radiant_ban_hero_id_2',\n",
       " 'radiant_ban_hero_id_3',\n",
       " 'radiant_ban_hero_id_4',\n",
       " 'radiant_ban_hero_id_5',\n",
       " 'radiant_carry_ancient_kills',\n",
       " 'radiant_carry_assists',\n",
       " 'radiant_carry_buyback_count',\n",
       " 'radiant_carry_camps_stacked',\n",
       " 'radiant_carry_deaths',\n",
       " 'radiant_carry_denies',\n",
       " 'radiant_carry_hero_damage',\n",
       " 'radiant_carry_hero_healing',\n",
       " 'radiant_carry_hero_id',\n",
       " 'radiant_carry_kills',\n",
       " 'radiant_carry_lane_efficiency_pct',\n",
       " 'radiant_carry_lane_kills',\n",
       " 'radiant_carry_last_hits',\n",
       " 'radiant_carry_neutral_kills',\n",
       " 'radiant_carry_obs_placed',\n",
       " 'radiant_carry_observer_kills',\n",
       " 'radiant_carry_sen_placed',\n",
       " 'radiant_carry_sentry_kills',\n",
       " 'radiant_carry_stuns',\n",
       " 'radiant_carry_teamfight_participation',\n",
       " 'radiant_carry_total_gold',\n",
       " 'radiant_carry_total_xp',\n",
       " 'radiant_carry_tower_damage',\n",
       " 'radiant_mid_ancient_kills',\n",
       " 'radiant_mid_assists',\n",
       " 'radiant_mid_buyback_count',\n",
       " 'radiant_mid_camps_stacked',\n",
       " 'radiant_mid_deaths',\n",
       " 'radiant_mid_denies',\n",
       " 'radiant_mid_hero_damage',\n",
       " 'radiant_mid_hero_healing',\n",
       " 'radiant_mid_hero_id',\n",
       " 'radiant_mid_kills',\n",
       " 'radiant_mid_lane_efficiency_pct',\n",
       " 'radiant_mid_lane_kills',\n",
       " 'radiant_mid_last_hits',\n",
       " 'radiant_mid_neutral_kills',\n",
       " 'radiant_mid_obs_placed',\n",
       " 'radiant_mid_observer_kills',\n",
       " 'radiant_mid_sen_placed',\n",
       " 'radiant_mid_sentry_kills',\n",
       " 'radiant_mid_stuns',\n",
       " 'radiant_mid_teamfight_participation',\n",
       " 'radiant_mid_total_gold',\n",
       " 'radiant_mid_total_xp',\n",
       " 'radiant_mid_tower_damage',\n",
       " 'radiant_off_ancient_kills',\n",
       " 'radiant_off_assists',\n",
       " 'radiant_off_buyback_count',\n",
       " 'radiant_off_camps_stacked',\n",
       " 'radiant_off_deaths',\n",
       " 'radiant_off_denies',\n",
       " 'radiant_off_hero_damage',\n",
       " 'radiant_off_hero_healing',\n",
       " 'radiant_off_hero_id',\n",
       " 'radiant_off_kills',\n",
       " 'radiant_off_lane_efficiency_pct',\n",
       " 'radiant_off_lane_kills',\n",
       " 'radiant_off_last_hits',\n",
       " 'radiant_off_neutral_kills',\n",
       " 'radiant_off_obs_placed',\n",
       " 'radiant_off_observer_kills',\n",
       " 'radiant_off_sen_placed',\n",
       " 'radiant_off_sentry_kills',\n",
       " 'radiant_off_stuns',\n",
       " 'radiant_off_teamfight_participation',\n",
       " 'radiant_off_total_gold',\n",
       " 'radiant_off_total_xp',\n",
       " 'radiant_off_tower_damage',\n",
       " 'radiant_pick_hero_id_1',\n",
       " 'radiant_pick_hero_id_2',\n",
       " 'radiant_pick_hero_id_3',\n",
       " 'radiant_pick_hero_id_4',\n",
       " 'radiant_pick_hero_id_5',\n",
       " 'radiant_pos4_ancient_kills',\n",
       " 'radiant_pos4_assists',\n",
       " 'radiant_pos4_buyback_count',\n",
       " 'radiant_pos4_camps_stacked',\n",
       " 'radiant_pos4_deaths',\n",
       " 'radiant_pos4_denies',\n",
       " 'radiant_pos4_hero_damage',\n",
       " 'radiant_pos4_hero_healing',\n",
       " 'radiant_pos4_hero_id',\n",
       " 'radiant_pos4_kills',\n",
       " 'radiant_pos4_lane_efficiency_pct',\n",
       " 'radiant_pos4_lane_kills',\n",
       " 'radiant_pos4_last_hits',\n",
       " 'radiant_pos4_neutral_kills',\n",
       " 'radiant_pos4_obs_placed',\n",
       " 'radiant_pos4_observer_kills',\n",
       " 'radiant_pos4_sen_placed',\n",
       " 'radiant_pos4_sentry_kills',\n",
       " 'radiant_pos4_stuns',\n",
       " 'radiant_pos4_teamfight_participation',\n",
       " 'radiant_pos4_total_gold',\n",
       " 'radiant_pos4_total_xp',\n",
       " 'radiant_pos4_tower_damage',\n",
       " 'radiant_pos5_ancient_kills',\n",
       " 'radiant_pos5_assists',\n",
       " 'radiant_pos5_buyback_count',\n",
       " 'radiant_pos5_camps_stacked',\n",
       " 'radiant_pos5_deaths',\n",
       " 'radiant_pos5_denies',\n",
       " 'radiant_pos5_hero_damage',\n",
       " 'radiant_pos5_hero_healing',\n",
       " 'radiant_pos5_hero_id',\n",
       " 'radiant_pos5_kills',\n",
       " 'radiant_pos5_lane_kills',\n",
       " 'radiant_pos5_last_hits',\n",
       " 'radiant_pos5_neutral_kills',\n",
       " 'radiant_pos5_obs_placed',\n",
       " 'radiant_pos5_observer_kills',\n",
       " 'radiant_pos5_sen_placed',\n",
       " 'radiant_pos5_sentry_kills',\n",
       " 'radiant_pos5_stuns',\n",
       " 'radiant_pos5_teamfight_participation',\n",
       " 'radiant_pos5_total_gold',\n",
       " 'radiant_pos5_total_xp',\n",
       " 'radiant_pos5_tower_damage',\n",
       " 'radiant_score',\n",
       " 'radiant_win',\n",
       " 'score_difference']"
      ]
     },
     "execution_count": 14,
     "metadata": {},
     "output_type": "execute_result"
    }
   ],
   "source": [
    "columns_to_use"
   ]
  },
  {
   "cell_type": "code",
   "execution_count": 15,
   "metadata": {},
   "outputs": [],
   "source": [
    "# ti 5 didnt have certain matches\n",
    "ti6_matches = ti6_matches[columns_to_use]\n",
    "ti7_matches = ti7_matches[columns_to_use]\n",
    "ti8_matches = ti8_matches[columns_to_use]"
   ]
  },
  {
   "cell_type": "markdown",
   "metadata": {},
   "source": [
    "# Featurize In Preparation for Dimensionality Reduction"
   ]
  },
  {
   "cell_type": "code",
   "execution_count": 16,
   "metadata": {},
   "outputs": [],
   "source": [
    "num_feat = num_feat = ['ancient_kills', 'neutral_kills', 'lane_kills', 'last_hits', 'denies', 'tower_damage', 'hero_damage', 'hero_healing', 'damage_taken', 'sentry_kills', 'observer_kills', 'kills', 'deaths', 'assists', 'stuns', \n",
    "'sen_placed', 'obs_placed', 'lane_efficiency_pct', 'camps_stacked', 'buyback_count', 'teamfight_participation', 'total_gold', 'total_xp']"
   ]
  },
  {
   "cell_type": "code",
   "execution_count": 17,
   "metadata": {},
   "outputs": [],
   "source": [
    "num_features_all = ['duration', 'radiant_score', \n",
    "                    'dire_score', 'score_difference', 'first_blood_time']"
   ]
  },
  {
   "cell_type": "code",
   "execution_count": 18,
   "metadata": {},
   "outputs": [],
   "source": [
    "num_feature_cols_mask = []\n",
    "for col in columns_to_use:\n",
    "    z = any([feat in col for feat in num_feat])\n",
    "    y = any([feat in col for feat in num_features_all])\n",
    "    num_feature_cols_mask.append(z or y)"
   ]
  },
  {
   "cell_type": "code",
   "execution_count": 19,
   "metadata": {},
   "outputs": [],
   "source": [
    "cat_feature_cols_mask = []\n",
    "for col in columns_to_use:\n",
    "    z = 'hero_id' in col\n",
    "    cat_feature_cols_mask.append(z)"
   ]
  },
  {
   "cell_type": "code",
   "execution_count": 20,
   "metadata": {},
   "outputs": [],
   "source": [
    "num_columns = ti8_matches.columns[num_feature_cols_mask]"
   ]
  },
  {
   "cell_type": "code",
   "execution_count": 21,
   "metadata": {},
   "outputs": [],
   "source": [
    "cat_columns = ti8_matches.columns[cat_feature_cols_mask]"
   ]
  },
  {
   "cell_type": "code",
   "execution_count": 22,
   "metadata": {},
   "outputs": [],
   "source": [
    "leave_alone_features_mask = []\n",
    "\n",
    "for i in range(len(columns_to_use)):\n",
    "    z = not (cat_feature_cols_mask[i] | num_feature_cols_mask[i])\n",
    "    leave_alone_features_mask.append(z)"
   ]
  },
  {
   "cell_type": "code",
   "execution_count": 23,
   "metadata": {},
   "outputs": [],
   "source": [
    "leave_alone_columns = ti8_matches.columns[leave_alone_features_mask]"
   ]
  },
  {
   "cell_type": "code",
   "execution_count": 24,
   "metadata": {},
   "outputs": [],
   "source": [
    "from sklearn import preprocessing"
   ]
  },
  {
   "cell_type": "code",
   "execution_count": 25,
   "metadata": {},
   "outputs": [],
   "source": [
    "all_matches = pd.concat([ti5_matches, ti6_matches, ti7_matches, ti8_matches])\n",
    "\n",
    "# standard scaler\n",
    "\n",
    "scaler = preprocessing.StandardScaler()\n",
    "\n",
    "num_transformed_df = scaler.fit_transform(all_matches[num_columns])\n",
    "\n",
    "encoder = preprocessing.OneHotEncoder(sparse = False)\n",
    "\n",
    "cat_transformed_df = encoder.fit_transform(all_matches[cat_columns])\n",
    "\n",
    "trans_df = np.hstack((num_transformed_df, cat_transformed_df, all_matches[leave_alone_columns].values))\n",
    "trans_df = np.nan_to_num(trans_df)"
   ]
  },
  {
   "cell_type": "code",
   "execution_count": 26,
   "metadata": {},
   "outputs": [],
   "source": [
    "y  = np.hstack((5 * np.ones(ti5_matches.shape[0]), 6*np.ones(ti6_matches.shape[0]), 7*np.ones(ti7_matches.shape[0]), \n",
    "8*np.ones(ti8_matches.shape[0])))\n",
    "\n",
    "indices_5 = y == 5\n",
    "indices_6 = y == 6\n",
    "indices_7 = y == 7\n",
    "indices_8 = y == 8\n",
    "\n",
    "def plot_embedding(embedding, filename):\n",
    "    plt.scatter(embedding[indices_5, 0], embedding[indices_5, 1], label = \"ti5\")\n",
    "    plt.scatter(embedding[indices_6, 0], embedding[indices_6, 1], label = \"ti6\")\n",
    "    plt.scatter(embedding[indices_7, 0], embedding[indices_7, 1], label = \"ti7\")\n",
    "    plt.scatter(embedding[indices_8, 0], embedding[indices_8, 1], label = \"ti8\")\n",
    "\n",
    "    plt.legend()\n",
    "    \n",
    "    plt.savefig(filename)\n",
    "    plt.show()"
   ]
  },
  {
   "cell_type": "markdown",
   "metadata": {},
   "source": [
    "# UMAP"
   ]
  },
  {
   "cell_type": "code",
   "execution_count": 27,
   "metadata": {},
   "outputs": [],
   "source": [
    "import umap"
   ]
  },
  {
   "cell_type": "code",
   "execution_count": 28,
   "metadata": {},
   "outputs": [],
   "source": [
    "n_neighbors = 5\n",
    "n_components = 2"
   ]
  },
  {
   "cell_type": "code",
   "execution_count": 29,
   "metadata": {},
   "outputs": [],
   "source": [
    "embedding_umap = umap.UMAP(n_neighbors=10,\n",
    "                      min_dist=0.2,\n",
    "                      metric='euclidean').fit_transform(trans_df)"
   ]
  },
  {
   "cell_type": "code",
   "execution_count": 30,
   "metadata": {},
   "outputs": [
    {
     "data": {
      "image/png": "[encoded data removed]",
      "text/plain": [
       "<Figure size 432x288 with 1 Axes>"
      ]
     },
     "metadata": {
      "needs_background": "light"
     },
     "output_type": "display_data"
    }
   ],
   "source": [
    "plot_embedding(embedding_umap, 'viz/umap.png')"
   ]
  },
  {
   "cell_type": "markdown",
   "metadata": {},
   "source": [
    "# T-SNE"
   ]
  },
  {
   "cell_type": "code",
   "execution_count": 31,
   "metadata": {},
   "outputs": [],
   "source": [
    "import sklearn.manifold as manifold"
   ]
  },
  {
   "cell_type": "code",
   "execution_count": 32,
   "metadata": {},
   "outputs": [],
   "source": [
    "tsne_model = manifold.TSNE()\n",
    "embedding_tsne = tsne_model.fit_transform(trans_df)"
   ]
  },
  {
   "cell_type": "code",
   "execution_count": 33,
   "metadata": {},
   "outputs": [
    {
     "data": {
      "image/png": "[encoded data removed]",
      "text/plain": [
       "<Figure size 432x288 with 1 Axes>"
      ]
     },
     "metadata": {
      "needs_background": "light"
     },
     "output_type": "display_data"
    }
   ],
   "source": [
    "plot_embedding(embedding_tsne, 'viz/tsne.png')"
   ]
  },
  {
   "cell_type": "markdown",
   "metadata": {},
   "source": [
    "# ISOMAP"
   ]
  },
  {
   "cell_type": "code",
   "execution_count": 34,
   "metadata": {},
   "outputs": [],
   "source": [
    "isomap_model = manifold.Isomap(n_neighbors = n_neighbors, n_components = n_components)\n",
    "embedding_isomap = isomap_model.fit_transform(trans_df)"
   ]
  },
  {
   "cell_type": "code",
   "execution_count": 35,
   "metadata": {},
   "outputs": [
    {
     "data": {
      "image/png": "[encoded data removed]",
      "text/plain": [
       "<Figure size 432x288 with 1 Axes>"
      ]
     },
     "metadata": {
      "needs_background": "light"
     },
     "output_type": "display_data"
    }
   ],
   "source": [
    "plot_embedding(embedding_isomap, 'viz/isomap.png')"
   ]
  },
  {
   "cell_type": "markdown",
   "metadata": {},
   "source": [
    "# Locally Linear Embedding"
   ]
  },
  {
   "cell_type": "code",
   "execution_count": 36,
   "metadata": {},
   "outputs": [],
   "source": [
    "lle_model = manifold.LocallyLinearEmbedding(n_neighbors = n_neighbors, n_components = n_components)\n",
    "embedding_lle = lle_model.fit_transform(trans_df)"
   ]
  },
  {
   "cell_type": "code",
   "execution_count": 37,
   "metadata": {},
   "outputs": [
    {
     "data": {
      "image/png": "[encoded data removed]",
      "text/plain": [
       "<Figure size 432x288 with 1 Axes>"
      ]
     },
     "metadata": {
      "needs_background": "light"
     },
     "output_type": "display_data"
    }
   ],
   "source": [
    "plot_embedding(embedding_lle, 'viz/lle.png')"
   ]
  },
  {
   "cell_type": "markdown",
   "metadata": {},
   "source": [
    "# Principal Component Analysis"
   ]
  },
  {
   "cell_type": "code",
   "execution_count": 38,
   "metadata": {},
   "outputs": [],
   "source": [
    "import sklearn.decomposition as decomposition"
   ]
  },
  {
   "cell_type": "code",
   "execution_count": 39,
   "metadata": {},
   "outputs": [],
   "source": [
    "pca_model = decomposition.PCA(n_components = n_components)\n",
    "embedding_pca = pca_model.fit_transform(trans_df)"
   ]
  },
  {
   "cell_type": "code",
   "execution_count": 40,
   "metadata": {},
   "outputs": [
    {
     "data": {
      "image/png": "[encoded data removed]",
      "text/plain": [
       "<Figure size 432x288 with 1 Axes>"
      ]
     },
     "metadata": {
      "needs_background": "light"
     },
     "output_type": "display_data"
    }
   ],
   "source": [
    "plot_embedding(embedding_pca, 'viz/pca.png')"
   ]
  },
  {
   "cell_type": "markdown",
   "metadata": {},
   "source": [
    "# Kernel PCA"
   ]
  },
  {
   "cell_type": "code",
   "execution_count": 41,
   "metadata": {},
   "outputs": [],
   "source": [
    "kpca_model = decomposition.KernelPCA(n_components=n_components, kernel = 'rbf')\n",
    "embedding_kpca = kpca_model.fit_transform(trans_df)"
   ]
  },
  {
   "cell_type": "code",
   "execution_count": 42,
   "metadata": {},
   "outputs": [
    {
     "data": {
      "image/png": "[encoded data removed]",
      "text/plain": [
       "<Figure size 432x288 with 1 Axes>"
      ]
     },
     "metadata": {
      "needs_background": "light"
     },
     "output_type": "display_data"
    }
   ],
   "source": [
    "plot_embedding(embedding_kpca, 'viz/kpca.png')"
   ]
  },
  {
   "cell_type": "markdown",
   "metadata": {},
   "source": [
    "# Fisher Discriminant Analysis"
   ]
  },
  {
   "cell_type": "code",
   "execution_count": 43,
   "metadata": {},
   "outputs": [],
   "source": [
    "from sklearn.discriminant_analysis import LinearDiscriminantAnalysis"
   ]
  },
  {
   "cell_type": "code",
   "execution_count": 44,
   "metadata": {},
   "outputs": [],
   "source": [
    "lda_model = LinearDiscriminantAnalysis()\n",
    "embedding_lda = lda_model.fit_transform(trans_df, y)"
   ]
  },
  {
   "cell_type": "code",
   "execution_count": 45,
   "metadata": {},
   "outputs": [
    {
     "data": {
      "image/png": "[encoded data removed]",
      "text/plain": [
       "<Figure size 432x288 with 1 Axes>"
      ]
     },
     "metadata": {
      "needs_background": "light"
     },
     "output_type": "display_data"
    }
   ],
   "source": [
    "plot_embedding(embedding_lda, 'viz/lda.png')"
   ]
  },
  {
   "cell_type": "markdown",
   "metadata": {},
   "source": [
    "# Largest Margin Nearest Neighbors"
   ]
  },
  {
   "cell_type": "code",
   "execution_count": 46,
   "metadata": {},
   "outputs": [],
   "source": [
    "from metric_learn.lmnn import LMNN"
   ]
  },
  {
   "cell_type": "code",
   "execution_count": 47,
   "metadata": {},
   "outputs": [],
   "source": [
    "lmnn_model = LMNN(k  = n_components, use_pca = False)\n",
    "embedding_lmnn = lmnn_model.fit_transform(trans_df, y)"
   ]
  },
  {
   "cell_type": "code",
   "execution_count": 48,
   "metadata": {},
   "outputs": [
    {
     "data": {
      "image/png": "[encoded data removed]",
      "text/plain": [
       "<Figure size 432x288 with 1 Axes>"
      ]
     },
     "metadata": {
      "needs_background": "light"
     },
     "output_type": "display_data"
    }
   ],
   "source": [
    "plot_embedding(embedding_lmnn, 'viz/lmnn.png')"
   ]
  },
  {
   "cell_type": "markdown",
   "metadata": {},
   "source": [
    "# SELF"
   ]
  },
  {
   "cell_type": "code",
   "execution_count": 49,
   "metadata": {},
   "outputs": [],
   "source": [
    "np.random.seed(1)\n",
    "\n",
    "def closest_k_neighbor(x, X, K = n_neighbors):\n",
    "    assert K != 1\n",
    "    assert x.shape[0] == X.shape[1]\n",
    "    assert K <= X.shape[0]\n",
    "    distances = np.apply_along_axis(lambda y: np.sum( (x-y)**2), 1, X)\n",
    "    distance_arg_sorted = np.argsort(-distances)\n",
    "    index_of_k_closest = distance_arg_sorted[K-1]\n",
    "    return X[index_of_k_closest, :]\n",
    "\n",
    "def run_self(X, y, n_components, beta = 0.5):    \n",
    "    assert X.shape[0] >= 100\n",
    "    mask = np.zeros(X.shape[0])\n",
    "    take_these_label_indices = np.random.choice(X.shape[0], size= 100, replace = False)\n",
    "    mask[take_these_label_indices] = 1\n",
    "    X_labeled = X[mask.astype(bool), :]\n",
    "    y_labeled = y[mask.astype(bool)]\n",
    "    X_all = np.vstack([X_labeled, X[~mask.astype(bool), :]])\n",
    "    d = X.shape[1]\n",
    "    neighbors = np.apply_along_axis(closest_k_neighbor, 1, X_labeled, X = X_all)\n",
    "    sigmas = np.apply_along_axis(lambda x: np.sqrt(np.sum(x**2)), 1, X_labeled - neighbors)\n",
    "    \n",
    "    \n",
    "    n_labeled = X_labeled.shape[0]\n",
    "    n_all = X.shape[0]\n",
    "\n",
    "    \n",
    "    a_matrix = np.zeros((n_labeled, n_labeled))\n",
    "    w_lb = np.zeros((n_labeled, n_labeled))\n",
    "    w_lw = np.zeros((n_labeled, n_labeled))\n",
    "\n",
    "    for ix in np.arange(n_labeled):\n",
    "        for jx in np.arange(n_labeled):\n",
    "            x_i = X_labeled[ix, :]\n",
    "            x_j = X_labeled[jx, :]\n",
    "\n",
    "            if (y_labeled[ix] == y_labeled[jx]):\n",
    "                a_matrix[ix, jx] = np.exp(-np.sum((x_i - x_j)**2) / sigmas[ix] / sigmas[jx])\n",
    "                n_y = np.sum(y_labeled == y_labeled[ix])\n",
    "                w_lb[ix, jx] = a_matrix[ix, jx] * (1.0 / n_labeled - 1.0 / n_y)\n",
    "                w_lw[ix, jx] = a_matrix[ix, jx] * (1.0 / n_y)\n",
    "            else:\n",
    "                w_lb[ix, jx] = (1.0 / n_labeled)\n",
    "\n",
    "    Xprime = np.transpose(X_labeled)\n",
    "    mu = X_all.mean(axis = 0)\n",
    "    S_lb = (Xprime.dot(np.diag(w_lb.sum(axis = 0)) - w_lb)).dot(X_labeled)      \n",
    "    S_lw = (Xprime.dot(np.diag(w_lw.sum(axis = 0)) - w_lw)).dot(X_labeled)  \n",
    "\n",
    "\n",
    "    S_t = np.transpose(X_all).dot(X_all) - n_all * mu.reshape(-1, 1).dot(mu.reshape(1, -1))\n",
    "\n",
    "    S_rlb = (1 - beta) * S_lb + beta * S_t\n",
    "    S_rlw = (1 - beta) * S_lw + beta * np.eye(d)\n",
    "\n",
    "\n",
    "    eig, vectors = scipy.linalg.eig(a = S_rlb, b = S_rlw)\n",
    "    eig = np.real(eig)\n",
    "    eig_sort = np.argsort(-np.abs(eig))\n",
    "    eig_ind = eig_sort[:n_components]\n",
    "    vectors = np.real(vectors)\n",
    "    eig = np.sqrt(eig[eig_ind])\n",
    "    vectors = vectors[:, eig_ind]\n",
    "    T = np.zeros((d, n_components))\n",
    "    for i in range(n_components):\n",
    "        T[:, i] = eig[i] * vectors[:, i]\n",
    "    \n",
    "    return T"
   ]
  },
  {
   "cell_type": "code",
   "execution_count": 50,
   "metadata": {},
   "outputs": [],
   "source": [
    "embedding_matrix = run_self(trans_df, y, n_components=n_components)"
   ]
  },
  {
   "cell_type": "code",
   "execution_count": 51,
   "metadata": {},
   "outputs": [],
   "source": [
    "embedding_self = trans_df.dot(embedding_matrix)"
   ]
  },
  {
   "cell_type": "code",
   "execution_count": 52,
   "metadata": {},
   "outputs": [
    {
     "data": {
      "image/png": "[encoded data removed]",
      "text/plain": [
       "<Figure size 432x288 with 1 Axes>"
      ]
     },
     "metadata": {
      "needs_background": "light"
     },
     "output_type": "display_data"
    }
   ],
   "source": [
    "plot_embedding(embedding_self, 'viz/self.png')"
   ]
  },
  {
   "cell_type": "code",
   "execution_count": null,
   "metadata": {},
   "outputs": [],
   "source": []
  }
 ],
 "metadata": {
  "kernelspec": {
   "display_name": "Python 3",
   "language": "python",
   "name": "python3"
  },
  "language_info": {
   "codemirror_mode": {
    "name": "ipython",
    "version": 3
   },
   "file_extension": ".py",
   "mimetype": "text/x-python",
   "name": "python",
   "nbconvert_exporter": "python",
   "pygments_lexer": "ipython3",
   "version": "3.6.8"
  }
 },
 "nbformat": 4,
 "nbformat_minor": 2
}
